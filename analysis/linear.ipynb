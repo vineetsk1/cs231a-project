{
 "cells": [
  {
   "cell_type": "code",
   "execution_count": 2,
   "metadata": {},
   "outputs": [],
   "source": [
    "# Script for simple linear predictions\n",
    "\n",
    "import math\n",
    "import numpy as np\n",
    "import matplotlib.pyplot as plt\n",
    "import matplotlib.gridspec as gridspec\n",
    "import imageio\n",
    "import os\n",
    "import time"
   ]
  },
  {
   "cell_type": "code",
   "execution_count": 108,
   "metadata": {},
   "outputs": [],
   "source": [
    "def extract_traj(data, ped_id):\n",
    "    return data[data[:, 1] == ped_id, :]\n",
    "\n",
    "# def read_gtfile(fname):\n",
    "#     return np.loadtxt(fname)\n",
    "\n",
    "def read_testfile(fname):\n",
    "    data = np.genfromtxt(fname, delimiter=\" \", dtype=None)\n",
    "    ndata = []\n",
    "    for i in range(len(data)):\n",
    "        if data[i][2] == '?':\n",
    "            ndata.append([data[i][0], data[i][1], -1, -1])\n",
    "        else:\n",
    "            ndata.append([data[i][0], data[i][1], float(data[i][2]), float(data[i][3])])\n",
    "    data = np.asarray(ndata)\n",
    "    return data\n",
    "\n",
    "def predict_traj(traj):\n",
    "    # assume first 8 are given, last 12 are not\n",
    "    vx = (traj[7,2] - traj[0,2])/8.\n",
    "    vy = (traj[7,3] - traj[0,3])/8.\n",
    "    ntraj = np.copy(traj)\n",
    "    for i in range(8, 20):\n",
    "        ntraj[i,2] = traj[7,2] + vx*(i-7)\n",
    "        ntraj[i,3] = traj[7,3] + vy*(i-7)\n",
    "    return ntraj\n",
    "\n",
    "def predict_file(data):\n",
    "    ndata = []\n",
    "    peds = set()\n",
    "    for i in range(data.shape[0]):\n",
    "        if data[i,1] not in peds:\n",
    "            peds.add(data[i,1])\n",
    "            traj = extract_traj(data, data[i,1])\n",
    "            pred = predict_traj(traj)\n",
    "            for j in range(pred.shape[0]):\n",
    "                ndata.append(pred[j])\n",
    "    ndata = np.asarray(ndata)\n",
    "    return ndata\n",
    "\n",
    "def save_file(data, fname):\n",
    "    st = \"\"\n",
    "    for i in range(data.shape[0]):\n",
    "        if i != 0:\n",
    "            st += \"\\n\"\n",
    "        st += \"%f %f %f %f\" % (data[i,0], data[i,1], data[i,2], data[i,3])\n",
    "    with open(fname, \"w\") as fw:\n",
    "        fw.write(st)\n",
    "\n",
    "def ensure_dir(directory):\n",
    "    if not os.path.exists(directory):\n",
    "        os.makedirs(directory)\n",
    "\n",
    "# folder is ../data/challenges/1/\n",
    "def create_predictions(root):\n",
    "    ensure_dir(root + \"predict\")\n",
    "    for folder in os.listdir(root + \"test\"):\n",
    "        if \".\" in folder:\n",
    "            continue\n",
    "        print \"Processing folder\", folder\n",
    "        ensure_dir(root + \"predict/\" + folder)\n",
    "        for fname in os.listdir(root + \"test/\" + folder):\n",
    "            if not fname.endswith(\".txt\"):\n",
    "                continue\n",
    "            print \"Processing file\", fname\n",
    "            test_data = read_testfile(root + \"test/\" + folder + \"/\" + fname)\n",
    "            predict_data = predict_file(test_data)\n",
    "            save_file(predict_data, root + \"predict/\" + folder + \"/\" + fname)"
   ]
  },
  {
   "cell_type": "code",
   "execution_count": 110,
   "metadata": {},
   "outputs": [
    {
     "name": "stdout",
     "output_type": "stream",
     "text": [
      "Processing folder biwi\n",
      "Processing file biwi_eth.txt\n",
      "Processing folder crowds\n",
      "Processing file crowds_zara01.txt\n"
     ]
    },
    {
     "name": "stderr",
     "output_type": "stream",
     "text": [
      "/Users/VineetK/Documents/College/Soph/Winter/cs231a/project/analysis/lib/python2.7/site-packages/ipykernel_launcher.py:8: VisibleDeprecationWarning: Reading unicode strings without specifying the encoding argument is deprecated. Set the encoding, use None for the system default.\n",
      "  \n"
     ]
    },
    {
     "name": "stdout",
     "output_type": "stream",
     "text": [
      "Processing file uni_examples.txt\n",
      "Processing folder stanford\n",
      "Processing file coupa_0.txt\n",
      "Processing file coupa_1.txt\n",
      "Processing file gates_2.txt\n",
      "Processing file hyang_0.txt\n",
      "Processing file hyang_1.txt\n",
      "Processing file hyang_3.txt\n",
      "Processing file hyang_8.txt\n",
      "Processing file little_0.txt\n",
      "Processing file little_1.txt\n",
      "Processing file little_2.txt\n",
      "Processing file little_3.txt\n",
      "Processing file nexus_5.txt\n",
      "Processing file nexus_6.txt\n",
      "Processing file quad_0.txt\n",
      "Processing file quad_1.txt\n",
      "Processing file quad_2.txt\n",
      "Processing file quad_3.txt\n"
     ]
    }
   ],
   "source": [
    "create_predictions(\"../data/challenges/1/\")"
   ]
  },
  {
   "cell_type": "code",
   "execution_count": null,
   "metadata": {},
   "outputs": [],
   "source": []
  }
 ],
 "metadata": {
  "kernelspec": {
   "display_name": "Python 2",
   "language": "python",
   "name": "python2"
  },
  "language_info": {
   "codemirror_mode": {
    "name": "ipython",
    "version": 2
   },
   "file_extension": ".py",
   "mimetype": "text/x-python",
   "name": "python",
   "nbconvert_exporter": "python",
   "pygments_lexer": "ipython2",
   "version": "2.7.10"
  }
 },
 "nbformat": 4,
 "nbformat_minor": 2
}
