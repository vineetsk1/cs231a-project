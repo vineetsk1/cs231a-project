{
 "cells": [
  {
   "cell_type": "code",
   "execution_count": 1,
   "metadata": {},
   "outputs": [],
   "source": [
    "import math\n",
    "import numpy as np\n",
    "import tensorflow as tf\n",
    "import matplotlib.pyplot as plt\n",
    "import matplotlib.gridspec as gridspec\n",
    "import imageio"
   ]
  },
  {
   "cell_type": "code",
   "execution_count": 2,
   "metadata": {},
   "outputs": [],
   "source": [
    "path = \"../data/challenges/1/gt/biwi/biwi_eth.txt\"\n",
    "fname = path[path.rfind(\"/\")+1:path.rfind(\".\")]\n",
    "data= np.genfromtxt(path)"
   ]
  },
  {
   "cell_type": "code",
   "execution_count": 3,
   "metadata": {},
   "outputs": [],
   "source": [
    "axis = [np.min(data[:,2]), np.max(data[:,2]), np.min(data[:,3]), np.max(data[:,3])]\n",
    "scale = 0.7\n",
    "axis = [y-scale if y < 0 else y+scale for y in axis]"
   ]
  },
  {
   "cell_type": "code",
   "execution_count": 4,
   "metadata": {},
   "outputs": [],
   "source": [
    "# Regular plot of x,y positions\n",
    "plt.scatter(data[:, 2], data[:, 3])\n",
    "plt.axis(axis)\n",
    "plt.title(\"x,y position plot\")\n",
    "# plt.show()\n",
    "plt.savefig(\"./out/\" + fname + \"_p1.png\", bbox_inches='tight')\n",
    "plt.close()"
   ]
  },
  {
   "cell_type": "code",
   "execution_count": 5,
   "metadata": {},
   "outputs": [],
   "source": [
    "# Histogram of x, y positions\n",
    "# Color indicates how dense it is (in the overall dataset)\n",
    "from scipy.stats import gaussian_kde\n",
    "\n",
    "x = data[:, 2]\n",
    "y = data[:, 3]\n",
    "xy = np.vstack([x,y])\n",
    "z = gaussian_kde(xy)(xy)\n",
    "\n",
    "idx = z.argsort()\n",
    "x, y, z = x[idx], y[idx], z[idx]\n",
    "\n",
    "plt.scatter(x, y, c=z, edgecolor='')\n",
    "plt.axis(axis)\n",
    "plt.title(\"histogram of x,y position (color=density)\")\n",
    "# plt.show()\n",
    "plt.savefig(\"./out/\" + fname + \"_p2.png\", bbox_inches='tight')\n",
    "plt.close()\n",
    "\n",
    "# another option\n",
    "plt.hist2d(x, y, (50, 50), cmap=plt.cm.jet)\n",
    "plt.colorbar()\n",
    "plt.title(\"histogram of x,y position (color=density)\")\n",
    "# plt.show()\n",
    "plt.savefig(\"./out/\" + fname + \"_p3.png\", bbox_inches='tight')\n",
    "plt.close()"
   ]
  },
  {
   "cell_type": "code",
   "execution_count": 6,
   "metadata": {},
   "outputs": [],
   "source": [
    "# Pedestrian speed histogram\n",
    "# and mean speed per pedestrian\n",
    "peds = np.unique(data[:, 1])\n",
    "npeds = peds.shape[0]"
   ]
  },
  {
   "cell_type": "code",
   "execution_count": 7,
   "metadata": {},
   "outputs": [],
   "source": [
    "speeds = np.zeros((npeds,))"
   ]
  },
  {
   "cell_type": "code",
   "execution_count": 8,
   "metadata": {},
   "outputs": [],
   "source": [
    "for i in range(npeds):\n",
    "    pts = data[np.where(data[:, 1] == peds[i])]\n",
    "    xys = pts[:, 2:]\n",
    "    vs = np.sum(np.square(xys[1:, :] - xys[:-1, :]), axis=1)\n",
    "    speeds[i] = np.average(vs)\n",
    "\n",
    "with open(\"./out/\" + fname + \"_log.txt\", 'a') as f:\n",
    "    f.write(\"Average speed \" + str(np.average(speeds)))"
   ]
  },
  {
   "cell_type": "code",
   "execution_count": 9,
   "metadata": {},
   "outputs": [],
   "source": [
    "# Mean speed per pedestrian\n",
    "plt.bar(np.arange(npeds), speeds, align='center')\n",
    "plt.xlabel('Pedestrian')\n",
    "#plt.xticks(np.arange(npeds), peds)\n",
    "plt.title(\"Mean speed per pedestrian\")\n",
    "plt.ylabel('Mean speed')\n",
    "# plt.show()\n",
    "plt.savefig(\"./out/\" + fname + \"_p4.png\", bbox_inches='tight')\n",
    "plt.close()"
   ]
  },
  {
   "cell_type": "code",
   "execution_count": 10,
   "metadata": {},
   "outputs": [],
   "source": [
    "# Pedestrian speed histograms\n",
    "plt.hist(speeds, bins=25, edgecolor='black')\n",
    "plt.title(\"Pedestrian speed histogram\")\n",
    "plt.xlabel('Speed')\n",
    "plt.ylabel('# Pedestrians')\n",
    "# plt.show()\n",
    "plt.savefig(\"./out/\" + fname + \"_p5.png\", bbox_inches='tight')\n",
    "plt.close()"
   ]
  },
  {
   "cell_type": "code",
   "execution_count": 11,
   "metadata": {},
   "outputs": [],
   "source": [
    "# we can calculate for each pedestrian, speed at location\n",
    "# so make histogram where location = location, color based on that speed\n",
    "# just set z to speeds for each x,y\n",
    "# plt.scatter(x, y, c=z, edgecolor='')\n",
    "# plt.axis(axis)\n",
    "# plt.show()\n",
    "\n",
    "constant = -1000\n",
    "npts = data.shape[0]\n",
    "x = np.zeros((npts,))\n",
    "y = np.zeros((npts,))\n",
    "v = np.ones((npts,)) * constant\n",
    "\n",
    "for i in range(npts):\n",
    "    x[i] = data[i, 2]\n",
    "    y[i] = data[i, 3]\n",
    "    if i == 0 or data[i,1] != data[i-1,1]:\n",
    "        continue\n",
    "    v[i] = np.square(x[i] - x[i-1]) + np.square(y[i] - y[i-1])\n",
    "\n",
    "inds = np.where(v != constant)\n",
    "x = x[inds]\n",
    "y = y[inds]\n",
    "v = v[inds]"
   ]
  },
  {
   "cell_type": "code",
   "execution_count": 12,
   "metadata": {},
   "outputs": [],
   "source": [
    "# Speed distributions in image space\n",
    "# Color indicates how fast it is\n",
    "plt.scatter(x, y, c=v, edgecolor='', cmap=plt.cm.jet, s=12, marker='s')\n",
    "plt.colorbar()\n",
    "plt.axis(axis)\n",
    "ax = plt.gca()\n",
    "ax.set_facecolor(plt.cm.jet(0.0))\n",
    "plt.title(\"Speed dist. in image space\")\n",
    "# plt.show()\n",
    "plt.savefig(\"./out/\" + fname + \"_p6.png\", bbox_inches='tight')\n",
    "plt.close()"
   ]
  },
  {
   "cell_type": "code",
   "execution_count": 13,
   "metadata": {},
   "outputs": [],
   "source": [
    "# Time distributions in image space\n",
    "# Color indicates frame\n",
    "# Let's create an animation/gif\n",
    "ns = [x for x in range(20, data.shape[0], 20)] #20 #data.shape[0] / 100\n",
    "\n",
    "for n in ns:\n",
    "    #print n, \"points\"\n",
    "    x = data[:n, 2]\n",
    "    y = data[:n, 3]\n",
    "    z = data[:n, 0]\n",
    "\n",
    "    plt.scatter(x, y, c=z, edgecolor='', cmap=plt.cm.jet, s=12, marker='s')\n",
    "    plt.colorbar()\n",
    "    plt.axis(axis)\n",
    "    ax = plt.gca()\n",
    "    ax.set_facecolor('white')\n",
    "    #plt.show()\n",
    "    plt.title(\"Trajectories in image space over time\")\n",
    "    plt.savefig('./out/' + fname + '_pz{}.png'.format(str(n).zfill(5)), bbox_inches='tight')\n",
    "    plt.close()"
   ]
  },
  {
   "cell_type": "code",
   "execution_count": 14,
   "metadata": {},
   "outputs": [],
   "source": [
    "images = []\n",
    "for n in ns:\n",
    "    filename = './out/' + fname + '_pz{}.png'.format(str(n).zfill(5))\n",
    "    images.append(imageio.imread(filename))\n",
    "imageio.mimsave('./out/' + fname + '_anim.gif', images)"
   ]
  },
  {
   "cell_type": "code",
   "execution_count": null,
   "metadata": {},
   "outputs": [],
   "source": []
  }
 ],
 "metadata": {
  "kernelspec": {
   "display_name": "Python 2",
   "language": "python",
   "name": "python2"
  },
  "language_info": {
   "codemirror_mode": {
    "name": "ipython",
    "version": 2
   },
   "file_extension": ".py",
   "mimetype": "text/x-python",
   "name": "python",
   "nbconvert_exporter": "python",
   "pygments_lexer": "ipython2",
   "version": "2.7.10"
  }
 },
 "nbformat": 4,
 "nbformat_minor": 2
}
